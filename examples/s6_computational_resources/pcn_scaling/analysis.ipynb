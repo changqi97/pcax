{
 "cells": [
  {
   "cell_type": "code",
   "execution_count": null,
   "metadata": {},
   "outputs": [],
   "source": [
    "import json\n",
    "\n",
    "def load(filename):\n",
    "    with open(filename, \"r\") as f:  \n",
    "        data = json.load(f)\n",
    "        \n",
    "    data = [\n",
    "        {\n",
    "            \"x\": x,\n",
    "            \"seconds\": d[\"seconds\"],\n",
    "            **d[\"params\"]\n",
    "        } for x, ds in data.items() for d in ds\n",
    "    ]\n",
    "    \n",
    "    return data\n",
    "\n",
    "data_main = load(\"main_timings.json\")\n",
    "data_pmain = load(\"pmain_timings.json\")"
   ]
  },
  {
   "cell_type": "code",
   "execution_count": null,
   "metadata": {},
   "outputs": [],
   "source": [
    "import pandas as pd\n",
    "\n",
    "pdf = pd.DataFrame(pd.concat([pd.DataFrame(data_main), pd.DataFrame(data_pmain)]))\n",
    "pdf = pdf.explode(\"seconds\")\n",
    "pdf = pdf.sort_values(by=\"x\")\n",
    "pdf.head()"
   ]
  },
  {
   "cell_type": "code",
   "execution_count": null,
   "metadata": {},
   "outputs": [],
   "source": [
    "import seaborn as sns\n",
    "import matplotlib.pyplot as plt\n",
    "from tueplots import bundles\n",
    "from tueplots import figsizes, fontsizes\n",
    "import numpy as np\n",
    "\n",
    "NEURIPS_FORMAT = bundles.neurips2024(rel_width=0.5)\n",
    "plt.clf()\n",
    "# Create the main figure\n",
    "sns.set_theme(\"paper\", style=\"whitegrid\")\n",
    "plt.rcParams.update(NEURIPS_FORMAT)\n",
    "fig = plt.figure(figsize=(2.75, 2.4))\n",
    "\n",
    "palette = sns.color_palette(\"viridis\", as_cmap=True)\n",
    "\n",
    "def discrete_palette(p, n, margin=0.01):\n",
    "    return [p(x) for x in np.linspace(0 + margin, 1 - margin, n)]\n",
    "\n",
    "ax = sns.lineplot(pdf[~pdf[\"x\"].isin([\"vL\", \"L\"])], x=\"mul\", hue=\"x\", y=\"seconds\", marker=\"o\", palette=discrete_palette(palette, 3))\n",
    "ax = sns.lineplot(pdf[pdf[\"x\"] == \"L\"], x=\"mul\", hue=\"x\", y=\"seconds\", marker=\"o\", palette=\"rocket\")\n",
    "ax = sns.lineplot(pdf[pdf[\"x\"] == \"vL\"], x=\"mul\", hue=\"x\", y=\"seconds\", marker=\"o\", dashes=(2,2), palette=\"rocket\")\n",
    "ax.set_title(\"Seconds per epoch\")\n",
    "ax.set_ylabel(\"\")\n",
    "ax.set_xlabel(\"Multiplicative Factor\")\n",
    "ax.set_ylim(0.5, 4.0)\n",
    "ax.set_xlim(0.8, 6.2)\n",
    "yticks = [1.0, 2.0, 3.0, 4.0]\n",
    "ax.set_yticks(yticks, labels=map(lambda x: f\"${x}$\", yticks), rotation=90, va=\"center\", ha=\"left\")\n",
    "xticks = [1,2,3,4,5,6]\n",
    "ax.set_xticks(xticks, labels=map(lambda x: f\"$\\\\times{x}$\", xticks))\n",
    "ax.legend(\n",
    "    loc=\"upper left\",\n",
    "    handles=ax.get_legend().legend_handles,\n",
    "    labels=[r\"Batch size\", r\"Network width\", r\"T\", r\"\\# of layers\", r\"\\# of layers (\\textit{vmap})\"])\n",
    "plt.savefig(\"parallel.pdf\")"
   ]
  }
 ],
 "metadata": {
  "kernelspec": {
   "display_name": "pcax",
   "language": "python",
   "name": "python3"
  },
  "language_info": {
   "codemirror_mode": {
    "name": "ipython",
    "version": 3
   },
   "file_extension": ".py",
   "mimetype": "text/x-python",
   "name": "python",
   "nbconvert_exporter": "python",
   "pygments_lexer": "ipython3",
   "version": "3.10.14"
  }
 },
 "nbformat": 4,
 "nbformat_minor": 2
}
