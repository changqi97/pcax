{
 "cells": [
  {
   "cell_type": "code",
   "execution_count": null,
   "metadata": {},
   "outputs": [],
   "source": [
    "import pandas as pd\n",
    "import seaborn as sns\n",
    "import matplotlib.pyplot as plt\n",
    "import numpy as np\n",
    "import os\n",
    "\n",
    "from utils.cluster import ClusterManager\n",
    "from utils import notebooks as nb\n",
    "\n",
    "plt.rcParams.update({\"figure.dpi\": 150})\n",
    "\n",
    "cluster = ClusterManager()\n"
   ]
  },
  {
   "cell_type": "code",
   "execution_count": null,
   "metadata": {},
   "outputs": [],
   "source": [
    "# create plot for each dataset\n",
    "def errorbar(x: np.ndarray):\n",
    "    return (x.min(), x.max())\n",
    "\n",
    "def mark_max(data: pd.DataFrame, color):\n",
    "    # get (h_lr, accuracy) with max accuracy for each h_dim\n",
    "    max_acc = data.groupby(\"h_dim\").apply(lambda x: x.loc[x[\"accuracy\"].idxmax()]).reset_index(drop=True).sort_values(\"h_dim\")\n",
    "    num_h_dims = len(max_acc[\"h_dim\"].unique())\n",
    "    palette = sns.color_palette(\"viridis\", n_colors=num_h_dims)\n",
    "    for i, row in max_acc.iterrows():\n",
    "        plt.scatter(row[\"h_lr\"], row[\"accuracy\"], s=500, alpha=0.2, color=palette[i])\n",
    "\n",
    "\n",
    "def plot_lineplots(results: pd.DataFrame, experiment_folder: str, dataset: str, suffix: str = \"\"):\n",
    "    # Plot the dataset\n",
    "    results = results.copy()\n",
    "    # keep all \"BP\" in condition. Only keep \"PC\" with h_lr < 1.0\n",
    "    mask_bp = results[\"condition\"].str.contains(\"BP\")\n",
    "    mask_pc = results[\"condition\"].str.contains(\"PC\") & (results[\"config.h_lr\"] < 0.3)\n",
    "    results = results[mask_bp | mask_pc]\n",
    "\n",
    "    results = results.loc[results['experiment.data.dataset'] == dataset]\n",
    "\n",
    "    h_lrs = sorted(results[\"config.h_lr\"].unique())\n",
    "    h_dims = sorted(results[\"config.hidden_dims\"].unique())\n",
    "\n",
    "    plt.clf()\n",
    "    # Create the main figure\n",
    "    sns.set_theme(\"paper\", style=\"whitegrid\")\n",
    "    plt.rcParams.update(nb.NEURIPS_FORMAT_FULL)\n",
    "    # reduce height\n",
    "    plt.rcParams[\"figure.figsize\"] = (plt.rcParams[\"figure.figsize\"][0], 2.8)\n",
    "    fig = plt.figure()\n",
    "    # Create gridspec to manage subplots sizes\n",
    "    gs = fig.add_gridspec(1, 3, width_ratios=[5, 5, 1])\n",
    "    axs = [fig.add_subplot(gs[0, i]) for i in range(3)]\n",
    "    palette = sns.color_palette(\"viridis\", n_colors=len(h_dims))\n",
    "\n",
    "    titles = [\"PC - SGD\", \"PC - Adam\", \"BP\"]\n",
    "\n",
    "    for i, condition in enumerate([\"PC-sgd-0.9\", \"PC-adamw-0.9\", \"BP-sgd-0.9\"]):\n",
    "        results_condition = results.loc[results[\"condition\"] == condition]\n",
    "\n",
    "        if \"BP\" in condition:\n",
    "            results_condition_2 = results_condition.copy()\n",
    "            results_condition_2[\"config.h_lr\"] = results_condition_2[\"config.h_lr\"] + 0.1\n",
    "            results_condition = pd.concat([results_condition, results_condition_2])\n",
    "            sns.lineplot(data=results_condition, x=\"config.h_lr\", y=\"results.accuracy\", hue=\"config.hidden_dims\", palette=palette, ax=axs[i])\n",
    "            axs[i].set_xlabel(\"\")\n",
    "            # remove x axis ticks\n",
    "            axs[i].set_xticks([])\n",
    "        else:\n",
    "            sns.lineplot(data=results_condition, x=\"config.h_lr\", y=\"results.accuracy\", hue=\"config.hidden_dims\", marker=\"o\", palette=palette, ax=axs[i])\n",
    "            axs[i].set_xlabel(r\"$\\gamma$ (State Learning Rate)\")\n",
    "            axs[i].set_xscale(\"log\")\n",
    "        # first plot gets y label\n",
    "        if i == 0:\n",
    "            # set y label with font size 12\n",
    "            axs[i].set_ylabel(\"Accuracy\")\n",
    "            # set legend. bottom right\n",
    "            axs[i].legend(ncol=2, title=\"Width\", title_fontsize=10, loc=\"lower right\")\n",
    "            # axs[i].get_legend().set_title(\"Width\", prop={\"size\": 10})\n",
    "        else:\n",
    "            axs[i].set_ylabel(\"\")\n",
    "            axs[i].set_yticklabels([])\n",
    "            axs[i].legend().set_visible(False)\n",
    "\n",
    "        axs[i].set_title(titles[i])\n",
    "        axs[i].set_ylim(0, 1)\n",
    "        # axs[i].axhline(y=linear_performances[record_mappings[dataset]], color='orange', linestyle='--')\n",
    "\n",
    "    # plt.show()\n",
    "    suffix = f\"-{suffix}\" if len(suffix) > 0 else \"\"\n",
    "    plt.savefig(os.path.join(experiment_folder, f\"lr-scaling-lineplot-{dataset}{suffix}.pdf\"))\n",
    "    plt.close()\n"
   ]
  },
  {
   "cell_type": "markdown",
   "metadata": {},
   "source": [
    "# Main Experiments\n",
    "\n",
    "This analysis the main experiment without data scaling."
   ]
  },
  {
   "cell_type": "code",
   "execution_count": null,
   "metadata": {},
   "outputs": [],
   "source": [
    "experiment_ids = []  # fill in the experiment ids from training e.g. ab12-cd34"
   ]
  },
  {
   "cell_type": "code",
   "execution_count": null,
   "metadata": {},
   "outputs": [],
   "source": [
    "experiment_folder, results, results_with_metrics, df = nb.load_data(\"training_stability\", experiment_ids)\n"
   ]
  },
  {
   "cell_type": "code",
   "execution_count": null,
   "metadata": {},
   "outputs": [],
   "source": [
    "\n",
    "plot_lineplots(df, cluster.artifact_dir, \"fashion_mnist\")\n"
   ]
  },
  {
   "cell_type": "code",
   "execution_count": null,
   "metadata": {},
   "outputs": [],
   "source": [
    "plot_lineplots(df, cluster.artifact_dir, \"two_moons\")\n"
   ]
  },
  {
   "cell_type": "markdown",
   "metadata": {},
   "source": [
    "# Ablation\n",
    "\n",
    "Analyse ablation results"
   ]
  },
  {
   "cell_type": "code",
   "execution_count": null,
   "metadata": {},
   "outputs": [],
   "source": [
    "experiment_ids = []"
   ]
  },
  {
   "cell_type": "code",
   "execution_count": null,
   "metadata": {},
   "outputs": [],
   "source": [
    "experiment_folder, results, results_with_metrics, df = nb.load_data(\"training_stability\", experiment_ids)"
   ]
  },
  {
   "cell_type": "code",
   "execution_count": null,
   "metadata": {},
   "outputs": [],
   "source": [
    "plot_lineplots(df, cluster.artifact_dir, \"fashion_mnist\", suffix=\"constant-layer-size\")\n"
   ]
  }
 ],
 "metadata": {
  "kernelspec": {
   "display_name": "pc",
   "language": "python",
   "name": "python3"
  },
  "language_info": {
   "codemirror_mode": {
    "name": "ipython",
    "version": 3
   },
   "file_extension": ".py",
   "mimetype": "text/x-python",
   "name": "python",
   "nbconvert_exporter": "python",
   "pygments_lexer": "ipython3",
   "version": "3.11.9"
  }
 },
 "nbformat": 4,
 "nbformat_minor": 2
}
