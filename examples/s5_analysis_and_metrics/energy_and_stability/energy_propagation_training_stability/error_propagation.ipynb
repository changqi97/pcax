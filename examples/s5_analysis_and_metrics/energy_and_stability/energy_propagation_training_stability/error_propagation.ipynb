{
 "cells": [
  {
   "cell_type": "code",
   "execution_count": null,
   "metadata": {},
   "outputs": [],
   "source": [
    "import pandas as pd\n",
    "import seaborn as sns\n",
    "import matplotlib.pyplot as plt\n",
    "import numpy as np\n",
    "import os\n",
    "\n",
    "from utils.cluster import ClusterManager\n",
    "from utils import notebooks as nb\n",
    "\n",
    "plt.rcParams.update({\"figure.dpi\": 150})\n",
    "\n",
    "cluster = ClusterManager()\n"
   ]
  },
  {
   "cell_type": "code",
   "execution_count": null,
   "metadata": {},
   "outputs": [],
   "source": [
    "experiment_ids = [] # fill in the experiment ids from training e.g. ab12-cd34"
   ]
  },
  {
   "cell_type": "code",
   "execution_count": null,
   "metadata": {},
   "outputs": [],
   "source": [
    "experiment_folder, results, results_with_metrics, df = nb.load_data(\"error_propagation\", experiment_ids)\n"
   ]
  },
  {
   "cell_type": "markdown",
   "metadata": {},
   "source": [
    "# Error Norm over T\n",
    "\n",
    "Plot the error norm over T steps (Most left plot)"
   ]
  },
  {
   "cell_type": "code",
   "execution_count": null,
   "metadata": {},
   "outputs": [],
   "source": [
    "\n",
    "\n",
    "def energy_over_T_plot(df, dataset: str, top_n: str = 1):\n",
    "    df = df.copy()\n",
    "    df = df.loc[df[\"experiment.data.dataset\"] == dataset]\n",
    "    # df_best_adam = df\n",
    "    df_best_adam = df.loc[df[\"config.optim\"] == \"adamw-0.9\"]\n",
    "    max_ids = df_best_adam.groupby(\"config.h_lr\")[\"results.accuracy\"].idxmax()\n",
    "    df_best_adam = df_best_adam.loc[max_ids].sort_values(\"results.accuracy\", ascending=False)\n",
    "    best_conditions = df_best_adam[\"all_experimental_vars\"].values\n",
    "    df_filtered_adam = df.loc[df[\"all_experimental_vars\"].isin(best_conditions[:top_n])]\n",
    "    df_filtered_adam_ids = df_filtered_adam[\"id\"].values\n",
    "    # df_filtered_adam\n",
    "    df_filtered_adam_ids\n",
    "\n",
    "    adam_models = []\n",
    "\n",
    "    for i, result in enumerate(results):\n",
    "        if result[\"config\"][\"optimizer_w\"] == \"adamw\":\n",
    "            adam_models.append((i, float(result[\"results\"][\"accuracy\"]), result[\"config\"][\"h_lr\"]))\n",
    "\n",
    "    adam_models = pd.DataFrame(adam_models, columns=[\"model\", \"accuracy\", \"h_lr\"])\n",
    "    # get max row by\n",
    "    energies = []\n",
    "    for idx in df_filtered_adam_ids:\n",
    "        print(f\"Accuracy: {results[idx]['results']['accuracy']} h_lr: {results[idx]['config']['h_lr']}\")\n",
    "        e = {str(k+1): results[idx][\"results\"][\"energy_norms\"][str(k)][:,-1] for k in [0, 1, 2]}\n",
    "        e = pd.DataFrame(e)\n",
    "        K = e[\"1\"].shape[0]\n",
    "        e[\"T\"] = np.arange(K) + 1\n",
    "        energies.append(e)\n",
    "\n",
    "    energies = pd.concat(energies)\n",
    "    print(energies)\n",
    "    energies_long = pd.melt(energies, id_vars=[\"T\"], var_name=\"layer\", value_name=\"energy\")\n",
    "\n",
    "    plt.clf()\n",
    "    # Create the main figure\n",
    "    sns.set_theme(\"paper\", style=\"whitegrid\")\n",
    "    plt.rcParams.update(nb.NEURIPS_FORMAT_HALF_TALL)\n",
    "    print(nb.NEURIPS_FORMAT_HALF_TALL)\n",
    "    fig = sns.lineplot(data=energies_long, x=\"T\", y=\"energy\", hue=\"layer\", marker=\"o\")\n",
    "    fig.set_yscale(\"log\")\n",
    "    fig.set_title(\"Energy Norm\")\n",
    "    fig.set_xlabel(\"T (Inference Step)\")\n",
    "    fig.set_ylabel(\"\")\n",
    "    fig.get_legend().set_title(\"Layer\")\n",
    "    fig.set_yticklabels(fig.get_yticklabels(), rotation=90, va=\"center\", ha=\"left\")\n",
    "    fig.set_xticks(np.arange(1, 9, 1))\n",
    "    plt.savefig(os.path.join(cluster.artifact_dir, f\"energy_norms_per_T_{dataset}.pdf\"))\n",
    "    plt.show()\n",
    "    plt.close()\n"
   ]
  },
  {
   "cell_type": "code",
   "execution_count": null,
   "metadata": {},
   "outputs": [],
   "source": [
    "energy_over_T_plot(df, \"fashion_mnist\")"
   ]
  },
  {
   "cell_type": "code",
   "execution_count": null,
   "metadata": {},
   "outputs": [],
   "source": [
    "energy_over_T_plot(df, \"two_moons\")"
   ]
  },
  {
   "cell_type": "code",
   "execution_count": null,
   "metadata": {},
   "outputs": [],
   "source": [
    "energy_over_T_plot(df, \"two_circles\")"
   ]
  },
  {
   "cell_type": "markdown",
   "metadata": {},
   "source": [
    "# Accuracy SGD vs Adam\n",
    "\n",
    "Plot middle plot (accuracies) and the grid across all conditions."
   ]
  },
  {
   "cell_type": "code",
   "execution_count": null,
   "metadata": {},
   "outputs": [],
   "source": [
    "def all_accuracies_plot(df, dataset):\n",
    "    df = df.copy()\n",
    "    df = df.loc[df[\"experiment.data.dataset\"] == dataset]\n",
    "    df = df.loc[df[\"config.optim\"].isin([\"sgd-0.9\", 'adamw-0.9'])]\n",
    "    # reduce pd.Categorical config.optim to remaining values\n",
    "    df[\"config.optim\"] = df[\"config.optim\"].cat.remove_unused_categories()\n",
    "    # map values in config.act_fn leaky_relu to LeakyReLU and hard_tanh to HardTanh\n",
    "    df[\"config.act_fn\"] = df[\"config.act_fn\"].map({\"leaky_relu\": \"LeakyReLU\", \"hard_tanh\": \"HardTanh\"})\n",
    "    # change \"config.optim\" to \"Optimizer\"\n",
    "    df = df.rename(columns={\"config.optim\": \"Optimizer\"})\n",
    "    # rename \"sgd-0.9\" to \"SGD\" and \"adamw-0.9\" to \"Adam\"\n",
    "    df[\"Optimizer\"] = df[\"Optimizer\"].map({\"sgd-0.9\": \"SGD\", \"adamw-0.9\": \"Adam\"})\n",
    "    plt.clf()\n",
    "    sns.set_theme(style=\"whitegrid\")\n",
    "    plt.rcParams.update(nb.NEURIPS_FORMAT_HALF_TALL)\n",
    "    palette = sns.color_palette(\"Dark2\", n_colors=4)[2:]\n",
    "    fig = sns.catplot(df, x=\"config.h_lr\", y=\"results.accuracy\", col=\"config.hidden_dims\", kind=\"box\", hue=\"Optimizer\", row=\"config.act_fn\", palette=palette, height=2.5, aspect=1.2)\n",
    "\n",
    "    fig.set_xlabels(\"$\\gamma$ (State Learning Rate)\")\n",
    "    fig.set_ylabels(\"Accuracy\")\n",
    "    fig.set_titles(\"Width = {col_name} | $f = $ {row_name}\")\n",
    "    # legend title \"Optimizer\"\n",
    "\n",
    "    # fig.set(xscale=\"log\")\n",
    "    # for ax in fig.axes.flat:\n",
    "        # ax.axhline(y=nb.linear_performances[dataset], color='grey', linestyle='--')\n",
    "        # ax.axhline(y=nb.chance_performances[dataset], color='orange', linestyle='--')\n",
    "        # ax.axhline(y=df[\"results.accuracy\"].max(), color='green', linestyle='--')\n",
    "\n",
    "    plt.savefig(os.path.join(cluster.artifact_dir, f\"all_accuracies_{dataset}.pdf\"))\n",
    "    plt.show()\n",
    "    plt.close()\n",
    "\n",
    "all_accuracies_plot(df, \"fashion_mnist\")"
   ]
  },
  {
   "cell_type": "code",
   "execution_count": null,
   "metadata": {},
   "outputs": [],
   "source": [
    "\n",
    "def single_accuracy_plot(df, dataset):\n",
    "    plt.clf()\n",
    "    # Create the main figure\n",
    "    sns.set_theme(\"paper\", style=\"whitegrid\")\n",
    "    plt.rcParams.update(nb.NEURIPS_FORMAT_HALF_TALL)\n",
    "    fig = plt.figure()\n",
    "    df = df.loc[df[\"experiment.data.dataset\"] == dataset]\n",
    "    df_fewer_optims = df.copy()\n",
    "    df_fewer_optims = df_fewer_optims.loc[df_fewer_optims[\"config.momentum_w\"].isin([0.9])]\n",
    "    df_fewer_optims = df_fewer_optims.loc[df_fewer_optims[\"config.hidden_dims\"] == 1024]\n",
    "    df_fewer_optims = df_fewer_optims.loc[df_fewer_optims[\"config.act_fn\"] == \"hard_tanh\"]\n",
    "    # rename optimizers \"sgd-0.9\" -> \"SGD\", \"adamw-0.9\" -> \"AdamW\"\n",
    "    df_fewer_optims[\"config.optim\"] = df_fewer_optims[\"config.optim\"].replace({\"sgd-0.9\": \"SGD\", \"adamw-0.9\": \"AdamW\"})\n",
    "    # reduce config.optim to only remaining levels\n",
    "    df_fewer_optims[\"config.optim\"] = df_fewer_optims[\"config.optim\"].cat.remove_unused_categories()\n",
    "\n",
    "    palette = sns.color_palette(\"Dark2\", n_colors=4)[2:]\n",
    "    fig = sns.boxplot(df_fewer_optims, x=\"config.h_lr\", y=\"results.accuracy\", hue=\"config.optim\", palette=palette)\n",
    "    fig.set(ylim=(0, 1))\n",
    "    fig.set_ylabel(\"\")\n",
    "    fig.set_title(\"Accuracy\")\n",
    "    fig.set_xlabel(r\"$\\gamma$ (State Learning Rate)\")\n",
    "    fig.set_yticklabels(fig.get_yticklabels(), rotation=90, va=\"center\", ha=\"left\")\n",
    "    # label title\n",
    "    fig.get_legend().set_title(\"Optimizer\", prop={\"size\": 12})\n",
    "    sns.move_legend(fig, \"lower left\")\n",
    "    # plt.show()\n",
    "    plt.savefig(os.path.join(cluster.artifact_dir, f\"accuracy-h-lr-optimizers-{dataset}.pdf\"))\n",
    "    plt.close()\n"
   ]
  },
  {
   "cell_type": "code",
   "execution_count": null,
   "metadata": {},
   "outputs": [],
   "source": [
    "single_accuracy_plot(df, \"fashion_mnist\")"
   ]
  },
  {
   "cell_type": "code",
   "execution_count": null,
   "metadata": {},
   "outputs": [],
   "source": [
    "single_accuracy_plot(df, \"two_moons\")"
   ]
  },
  {
   "cell_type": "code",
   "execution_count": null,
   "metadata": {},
   "outputs": [],
   "source": [
    "single_accuracy_plot(df, \"two_circles\")"
   ]
  },
  {
   "cell_type": "markdown",
   "metadata": {},
   "source": [
    "# Energy Ratios\n",
    "\n",
    "plot the ratios of energies (most right plot)"
   ]
  },
  {
   "cell_type": "code",
   "execution_count": null,
   "metadata": {},
   "outputs": [],
   "source": [
    "\n",
    "def plot_single_energy_ratio(df, dataset):\n",
    "    df = df.copy()\n",
    "    df = df.loc[df[\"experiment.data.dataset\"] == dataset]\n",
    "    plt.clf()\n",
    "    # Create the main figure\n",
    "    sns.set_theme(\"paper\", style=\"whitegrid\")\n",
    "    plt.rcParams.update(nb.NEURIPS_FORMAT_HALF_TALL)\n",
    "    # energy distribution and accuracy as function of h_lr\n",
    "    df_better_than_chance = df[df[\"results.accuracy\"] > 0.5] # not actually chance. just a custom threshold\n",
    "    df_better_than_chance = df_better_than_chance[(df_better_than_chance[\"results.energy_norms_ratio_0/1\"] < 10**8) & (df_better_than_chance[\"results.energy_norms_ratio_1/2\"] < 10**8)] # for some conditions, ther eare still 2-3 datapoints outside of this range. Removing for readability\n",
    "\n",
    "    df_better_than_chance = df_better_than_chance.loc[df_better_than_chance[\"config.optimizer_w\"] == \"adamw\"]\n",
    "\n",
    "    df_melted = pd.melt(df_better_than_chance, id_vars=['config.h_lr'],\n",
    "                        value_vars=['results.energy_norms_ratio_0/1', 'results.energy_norms_ratio_1/2'],\n",
    "                        var_name='ratio_type', value_name='results.energy_norms_ratio')\n",
    "    df_melted['ratio_type'] = df_melted['ratio_type'].str.split('_').str[-1]\n",
    "    #ratio_type rename 0/1 -> $l_2/l_1$ and 1/2 -> $l_3/l_2$\n",
    "    df_melted['ratio_type'] = df_melted['ratio_type'].replace({\"0/1\": \"$\\epsilon_1^2/\\epsilon_2^2$\", \"1/2\": \"$\\epsilon_2^2/\\epsilon_3^2$\"})\n",
    "    fig = sns.boxplot(df_melted, x=\"config.h_lr\", y=\"results.energy_norms_ratio\", hue=\"ratio_type\")\n",
    "    fig.set(yscale=\"log\")\n",
    "    fig.set(ylabel=\"\")\n",
    "    fig.set_yticklabels(fig.get_yticklabels(), rotation=90, va=\"center\", ha=\"left\")\n",
    "    fig.set_title(\"Energy Layer Ratio\")\n",
    "    fig.set(xlabel=r\"$\\gamma$ (State Learning Rate)\")\n",
    "    fig.get_legend().set_title(\"Layer Ratio\")\n",
    "    sns.move_legend(fig, \"upper left\")\n",
    "    # add horizontal red line at 1\n",
    "    fig.axhline(1, color='grey', linestyle='--', zorder=0)\n",
    "    fig.axhline(0.01, color='grey', alpha=0.3, linestyle=':', zorder=0)\n",
    "    fig.axhline(100, color='grey', alpha=0.3, linestyle=':', zorder=0)\n",
    "\n",
    "    # plt.show()\n",
    "    plt.savefig(os.path.join(cluster.artifact_dir, f\"energy-ratios-{dataset}.pdf\"))\n",
    "    fig.set(xscale=\"log\")\n",
    "    plt.close()\n"
   ]
  },
  {
   "cell_type": "code",
   "execution_count": null,
   "metadata": {},
   "outputs": [],
   "source": [
    "plot_single_energy_ratio(df, \"fashion_mnist\")"
   ]
  },
  {
   "cell_type": "code",
   "execution_count": null,
   "metadata": {},
   "outputs": [],
   "source": [
    "plot_single_energy_ratio(df, \"two_moons\")"
   ]
  },
  {
   "cell_type": "code",
   "execution_count": null,
   "metadata": {},
   "outputs": [],
   "source": [
    "plot_single_energy_ratio(df, \"two_circles\")"
   ]
  }
 ],
 "metadata": {
  "kernelspec": {
   "display_name": "pc",
   "language": "python",
   "name": "python3"
  },
  "language_info": {
   "codemirror_mode": {
    "name": "ipython",
    "version": 3
   },
   "file_extension": ".py",
   "mimetype": "text/x-python",
   "name": "python",
   "nbconvert_exporter": "python",
   "pygments_lexer": "ipython3",
   "version": "3.11.9"
  }
 },
 "nbformat": 4,
 "nbformat_minor": 2
}
